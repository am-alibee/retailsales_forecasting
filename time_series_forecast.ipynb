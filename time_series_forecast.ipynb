{
 "cells": [
  {
   "cell_type": "code",
   "execution_count": 1,
   "id": "f4b7df41-67d3-4b9d-8197-2bf9635094a4",
   "metadata": {},
   "outputs": [
    {
     "data": {
      "text/plain": [
       "'hello'"
      ]
     },
     "execution_count": 1,
     "metadata": {},
     "output_type": "execute_result"
    }
   ],
   "source": [
    "\"hello\""
   ]
  },
  {
   "cell_type": "code",
   "execution_count": 36,
   "id": "d977d3b6-488d-4517-8e83-8a14b85a29d6",
   "metadata": {},
   "outputs": [],
   "source": [
    "import pandas as pd\n",
    "import numpy as np\n",
    "import matplotlib.pyplot as plt\n",
    "\n",
    "from statsmodels.tsa.stattools import adfuller"
   ]
  },
  {
   "cell_type": "code",
   "execution_count": 40,
   "id": "7f863149-1201-4200-bb67-53070d780f8f",
   "metadata": {},
   "outputs": [],
   "source": [
    "def wrangle(path):\n",
    "    \n",
    "    # read the csv file\n",
    "    df = pd.read_csv(path, index_col='InvoiceDate', parse_dates=['InvoiceDate'])\n",
    "\n",
    "    # create the revenue col\n",
    "    df['Revenue'] = df['Quantity'] * df['UnitPrice']\n",
    "\n",
    "    # drop unecessary cols\n",
    "    df.drop(columns=['Description', 'Quantity', 'UnitPrice', 'CustomerID', 'Country'], inplace=True)\n",
    "\n",
    "    # resample to daily freq\n",
    "    df = df.resample('D').mean().dropna()\n",
    "\n",
    "    # return the transformed df\n",
    "    return df"
   ]
  },
  {
   "cell_type": "code",
   "execution_count": 41,
   "id": "3dd13ffe-4b83-4b01-ab0d-5ed7d04a6176",
   "metadata": {},
   "outputs": [
    {
     "data": {
      "text/html": [
       "<div>\n",
       "<style scoped>\n",
       "    .dataframe tbody tr th:only-of-type {\n",
       "        vertical-align: middle;\n",
       "    }\n",
       "\n",
       "    .dataframe tbody tr th {\n",
       "        vertical-align: top;\n",
       "    }\n",
       "\n",
       "    .dataframe thead th {\n",
       "        text-align: right;\n",
       "    }\n",
       "</style>\n",
       "<table border=\"1\" class=\"dataframe\">\n",
       "  <thead>\n",
       "    <tr style=\"text-align: right;\">\n",
       "      <th></th>\n",
       "      <th>Revenue</th>\n",
       "    </tr>\n",
       "    <tr>\n",
       "      <th>InvoiceDate</th>\n",
       "      <th></th>\n",
       "    </tr>\n",
       "  </thead>\n",
       "  <tbody>\n",
       "    <tr>\n",
       "      <th>2010-12-01</th>\n",
       "      <td>18.866010</td>\n",
       "    </tr>\n",
       "    <tr>\n",
       "      <th>2010-12-02</th>\n",
       "      <td>21.909569</td>\n",
       "    </tr>\n",
       "    <tr>\n",
       "      <th>2010-12-03</th>\n",
       "      <td>20.717738</td>\n",
       "    </tr>\n",
       "    <tr>\n",
       "      <th>2010-12-05</th>\n",
       "      <td>11.517046</td>\n",
       "    </tr>\n",
       "    <tr>\n",
       "      <th>2010-12-06</th>\n",
       "      <td>13.888649</td>\n",
       "    </tr>\n",
       "  </tbody>\n",
       "</table>\n",
       "</div>"
      ],
      "text/plain": [
       "               Revenue\n",
       "InvoiceDate           \n",
       "2010-12-01   18.866010\n",
       "2010-12-02   21.909569\n",
       "2010-12-03   20.717738\n",
       "2010-12-05   11.517046\n",
       "2010-12-06   13.888649"
      ]
     },
     "execution_count": 41,
     "metadata": {},
     "output_type": "execute_result"
    }
   ],
   "source": [
    "df = wrangle(\"C:/Users/HP PROBOOK/Documents/Cardio/Analysis/Online_Retail.csv\")\n",
    "df.head()"
   ]
  },
  {
   "cell_type": "code",
   "execution_count": 42,
   "id": "ee91cae6-49f7-4f08-8885-14b42cf0227b",
   "metadata": {},
   "outputs": [
    {
     "data": {
      "text/plain": [
       "(np.float64(-4.518185855518255),\n",
       " np.float64(0.00018228498361180445),\n",
       " 11,\n",
       " 293,\n",
       " {'1%': np.float64(-3.452867117291862),\n",
       "  '5%': np.float64(-2.8714554160827745),\n",
       "  '10%': np.float64(-2.5720532321867466)},\n",
       " np.float64(1917.904555639304))"
      ]
     },
     "execution_count": 42,
     "metadata": {},
     "output_type": "execute_result"
    }
   ],
   "source": [
    "adfuller(df)"
   ]
  },
  {
   "cell_type": "code",
   "execution_count": null,
   "id": "54c6294b-8b1a-4659-8b93-e6782b610b59",
   "metadata": {},
   "outputs": [],
   "source": []
  }
 ],
 "metadata": {
  "kernelspec": {
   "display_name": "Python 3 (ipykernel)",
   "language": "python",
   "name": "python3"
  },
  "language_info": {
   "codemirror_mode": {
    "name": "ipython",
    "version": 3
   },
   "file_extension": ".py",
   "mimetype": "text/x-python",
   "name": "python",
   "nbconvert_exporter": "python",
   "pygments_lexer": "ipython3",
   "version": "3.13.0"
  }
 },
 "nbformat": 4,
 "nbformat_minor": 5
}
